{
 "cells": [
  {
   "cell_type": "markdown",
   "id": "4a47080b",
   "metadata": {},
   "source": [
    "# Exploratory Data Analysis\n",
    "This notebook contains exploratory data analysis and visualizations for the project."
   ]
  },
  {
   "cell_type": "code",
   "execution_count": null,
   "id": "f901a76b",
   "metadata": {},
   "outputs": [],
   "source": [
    "# Import necessary libraries\n",
    "import pandas as pd\n",
    "import matplotlib.pyplot as plt\n",
    "import seaborn as sns"
   ]
  },
  {
   "cell_type": "code",
   "execution_count": null,
   "id": "165c8b4f",
   "metadata": {},
   "outputs": [],
   "source": [
    "# Load the dataset\n",
    "data = pd.read_csv('../data/raw/sample_data.csv')\n",
    "data.head()"
   ]
  }
 ],
 "metadata": {
  "language_info": {
   "name": "python"
  }
 },
 "nbformat": 4,
 "nbformat_minor": 5
}
